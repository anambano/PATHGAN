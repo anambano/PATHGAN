{
 "cells": [
  {
   "cell_type": "markdown",
   "metadata": {
    "_uuid": "25c7d66cd9316a04e175245738b2e137f8614713"
   },
   "source": [
    "# Path planning using GAN"
   ]
  },
  {
   "cell_type": "markdown",
   "metadata": {
    "_uuid": "62275ca561cbdb5885225e44c41196be117dffa5"
   },
   "source": [
    "## Loading packages"
   ]
  },
  {
   "cell_type": "code",
   "execution_count": 1,
   "metadata": {
    "_uuid": "50a04676ef8767a1788f12c456e120a6e82188d3"
   },
   "outputs": [],
   "source": [
    "import numpy as np # linear algebra\n",
    "import pandas as pd # data processing, CSV file I/O (e.g. pd.read_csv)\n",
    "import tqdm.notebook as tqdm\n",
    "from keras.layers import Input, Dense, Reshape, Flatten, Dropout\n",
    "from keras.layers import BatchNormalization\n",
    "from keras.layers.advanced_activations import LeakyReLU\n",
    "from keras.models import Sequential, Model\n",
    "from keras.optimizers import Adam\n",
    "import tensorflow as tf\n",
    "#from tqdm import tqdm_notebook, tnrange\n",
    "\n",
    "from keras.utils import np_utils\n",
    "from sklearn.preprocessing import LabelEncoder\n",
    "\n",
    "import os\n",
    "import time\n",
    "from pylab import *"
   ]
  },
  {
   "cell_type": "markdown",
   "metadata": {
    "_uuid": "a1f8bd6664dba473f9ab2c773a2c07c4a782167a"
   },
   "source": [
    "## Loading data"
   ]
  },
  {
   "cell_type": "code",
   "execution_count": 2,
   "metadata": {
    "_uuid": "89e7394505d86a7ae5a475d3c023551a2a445fce"
   },
   "outputs": [],
   "source": [
    "data_path = \"D:\\ML\\PATHGAN\\input\\dataset\""
   ]
  },
  {
   "cell_type": "markdown",
   "metadata": {
    "_uuid": "129a3712f67bbb8f3a222e21cc33571319b8f63f"
   },
   "source": [
    "### Prining a sample data"
   ]
  },
  {
   "cell_type": "code",
   "execution_count": 3,
   "metadata": {
    "_uuid": "7bbf090dbf03b4c8a3b475ca78a6f687a825ad61"
   },
   "outputs": [
    {
     "data": {
      "text/html": [
       "<div>\n",
       "<style scoped>\n",
       "    .dataframe tbody tr th:only-of-type {\n",
       "        vertical-align: middle;\n",
       "    }\n",
       "\n",
       "    .dataframe tbody tr th {\n",
       "        vertical-align: top;\n",
       "    }\n",
       "\n",
       "    .dataframe thead th {\n",
       "        text-align: right;\n",
       "    }\n",
       "</style>\n",
       "<table border=\"1\" class=\"dataframe\">\n",
       "  <thead>\n",
       "    <tr style=\"text-align: right;\">\n",
       "      <th></th>\n",
       "      <th>0</th>\n",
       "      <th>1</th>\n",
       "      <th>2</th>\n",
       "      <th>3</th>\n",
       "      <th>4</th>\n",
       "      <th>5</th>\n",
       "      <th>6</th>\n",
       "      <th>7</th>\n",
       "      <th>8</th>\n",
       "      <th>9</th>\n",
       "      <th>10</th>\n",
       "      <th>11</th>\n",
       "      <th>12</th>\n",
       "    </tr>\n",
       "  </thead>\n",
       "  <tbody>\n",
       "    <tr>\n",
       "      <th>0</th>\n",
       "      <td>1</td>\n",
       "      <td>0</td>\n",
       "      <td>0</td>\n",
       "      <td>0</td>\n",
       "      <td>0</td>\n",
       "      <td>0</td>\n",
       "      <td>0</td>\n",
       "      <td>0</td>\n",
       "      <td>0</td>\n",
       "      <td>0</td>\n",
       "      <td>0</td>\n",
       "      <td>0</td>\n",
       "      <td>0</td>\n",
       "    </tr>\n",
       "    <tr>\n",
       "      <th>1</th>\n",
       "      <td>1</td>\n",
       "      <td>0</td>\n",
       "      <td>0</td>\n",
       "      <td>0</td>\n",
       "      <td>0</td>\n",
       "      <td>0</td>\n",
       "      <td>0</td>\n",
       "      <td>0</td>\n",
       "      <td>0</td>\n",
       "      <td>0</td>\n",
       "      <td>0</td>\n",
       "      <td>0</td>\n",
       "      <td>0</td>\n",
       "    </tr>\n",
       "    <tr>\n",
       "      <th>2</th>\n",
       "      <td>1</td>\n",
       "      <td>0</td>\n",
       "      <td>0</td>\n",
       "      <td>0</td>\n",
       "      <td>0</td>\n",
       "      <td>0</td>\n",
       "      <td>0</td>\n",
       "      <td>0</td>\n",
       "      <td>0</td>\n",
       "      <td>0</td>\n",
       "      <td>0</td>\n",
       "      <td>0</td>\n",
       "      <td>0</td>\n",
       "    </tr>\n",
       "    <tr>\n",
       "      <th>3</th>\n",
       "      <td>1</td>\n",
       "      <td>0</td>\n",
       "      <td>0</td>\n",
       "      <td>0</td>\n",
       "      <td>0</td>\n",
       "      <td>0</td>\n",
       "      <td>0</td>\n",
       "      <td>0</td>\n",
       "      <td>0</td>\n",
       "      <td>0</td>\n",
       "      <td>0</td>\n",
       "      <td>0</td>\n",
       "      <td>0</td>\n",
       "    </tr>\n",
       "    <tr>\n",
       "      <th>4</th>\n",
       "      <td>1</td>\n",
       "      <td>1</td>\n",
       "      <td>1</td>\n",
       "      <td>1</td>\n",
       "      <td>1</td>\n",
       "      <td>0</td>\n",
       "      <td>0</td>\n",
       "      <td>0</td>\n",
       "      <td>0</td>\n",
       "      <td>0</td>\n",
       "      <td>0</td>\n",
       "      <td>0</td>\n",
       "      <td>0</td>\n",
       "    </tr>\n",
       "    <tr>\n",
       "      <th>5</th>\n",
       "      <td>0</td>\n",
       "      <td>0</td>\n",
       "      <td>0</td>\n",
       "      <td>0</td>\n",
       "      <td>0</td>\n",
       "      <td>1</td>\n",
       "      <td>0</td>\n",
       "      <td>0</td>\n",
       "      <td>0</td>\n",
       "      <td>0</td>\n",
       "      <td>0</td>\n",
       "      <td>0</td>\n",
       "      <td>0</td>\n",
       "    </tr>\n",
       "    <tr>\n",
       "      <th>6</th>\n",
       "      <td>0</td>\n",
       "      <td>0</td>\n",
       "      <td>0</td>\n",
       "      <td>0</td>\n",
       "      <td>0</td>\n",
       "      <td>0</td>\n",
       "      <td>1</td>\n",
       "      <td>0</td>\n",
       "      <td>0</td>\n",
       "      <td>0</td>\n",
       "      <td>0</td>\n",
       "      <td>0</td>\n",
       "      <td>0</td>\n",
       "    </tr>\n",
       "    <tr>\n",
       "      <th>7</th>\n",
       "      <td>0</td>\n",
       "      <td>0</td>\n",
       "      <td>0</td>\n",
       "      <td>0</td>\n",
       "      <td>0</td>\n",
       "      <td>0</td>\n",
       "      <td>0</td>\n",
       "      <td>1</td>\n",
       "      <td>0</td>\n",
       "      <td>0</td>\n",
       "      <td>0</td>\n",
       "      <td>0</td>\n",
       "      <td>0</td>\n",
       "    </tr>\n",
       "    <tr>\n",
       "      <th>8</th>\n",
       "      <td>0</td>\n",
       "      <td>0</td>\n",
       "      <td>0</td>\n",
       "      <td>0</td>\n",
       "      <td>0</td>\n",
       "      <td>0</td>\n",
       "      <td>0</td>\n",
       "      <td>1</td>\n",
       "      <td>0</td>\n",
       "      <td>0</td>\n",
       "      <td>0</td>\n",
       "      <td>0</td>\n",
       "      <td>0</td>\n",
       "    </tr>\n",
       "    <tr>\n",
       "      <th>9</th>\n",
       "      <td>0</td>\n",
       "      <td>0</td>\n",
       "      <td>0</td>\n",
       "      <td>0</td>\n",
       "      <td>0</td>\n",
       "      <td>0</td>\n",
       "      <td>0</td>\n",
       "      <td>1</td>\n",
       "      <td>0</td>\n",
       "      <td>0</td>\n",
       "      <td>0</td>\n",
       "      <td>0</td>\n",
       "      <td>0</td>\n",
       "    </tr>\n",
       "    <tr>\n",
       "      <th>10</th>\n",
       "      <td>0</td>\n",
       "      <td>0</td>\n",
       "      <td>0</td>\n",
       "      <td>0</td>\n",
       "      <td>0</td>\n",
       "      <td>0</td>\n",
       "      <td>0</td>\n",
       "      <td>1</td>\n",
       "      <td>0</td>\n",
       "      <td>0</td>\n",
       "      <td>0</td>\n",
       "      <td>0</td>\n",
       "      <td>0</td>\n",
       "    </tr>\n",
       "    <tr>\n",
       "      <th>11</th>\n",
       "      <td>0</td>\n",
       "      <td>0</td>\n",
       "      <td>0</td>\n",
       "      <td>0</td>\n",
       "      <td>0</td>\n",
       "      <td>0</td>\n",
       "      <td>0</td>\n",
       "      <td>0</td>\n",
       "      <td>1</td>\n",
       "      <td>0</td>\n",
       "      <td>0</td>\n",
       "      <td>0</td>\n",
       "      <td>0</td>\n",
       "    </tr>\n",
       "    <tr>\n",
       "      <th>12</th>\n",
       "      <td>0</td>\n",
       "      <td>0</td>\n",
       "      <td>0</td>\n",
       "      <td>0</td>\n",
       "      <td>0</td>\n",
       "      <td>0</td>\n",
       "      <td>0</td>\n",
       "      <td>0</td>\n",
       "      <td>1</td>\n",
       "      <td>0</td>\n",
       "      <td>0</td>\n",
       "      <td>0</td>\n",
       "      <td>0</td>\n",
       "    </tr>\n",
       "    <tr>\n",
       "      <th>13</th>\n",
       "      <td>0</td>\n",
       "      <td>0</td>\n",
       "      <td>0</td>\n",
       "      <td>0</td>\n",
       "      <td>0</td>\n",
       "      <td>0</td>\n",
       "      <td>0</td>\n",
       "      <td>0</td>\n",
       "      <td>1</td>\n",
       "      <td>0</td>\n",
       "      <td>0</td>\n",
       "      <td>0</td>\n",
       "      <td>0</td>\n",
       "    </tr>\n",
       "    <tr>\n",
       "      <th>14</th>\n",
       "      <td>0</td>\n",
       "      <td>0</td>\n",
       "      <td>0</td>\n",
       "      <td>0</td>\n",
       "      <td>0</td>\n",
       "      <td>0</td>\n",
       "      <td>0</td>\n",
       "      <td>1</td>\n",
       "      <td>0</td>\n",
       "      <td>0</td>\n",
       "      <td>0</td>\n",
       "      <td>0</td>\n",
       "      <td>0</td>\n",
       "    </tr>\n",
       "    <tr>\n",
       "      <th>15</th>\n",
       "      <td>0</td>\n",
       "      <td>0</td>\n",
       "      <td>0</td>\n",
       "      <td>0</td>\n",
       "      <td>0</td>\n",
       "      <td>0</td>\n",
       "      <td>0</td>\n",
       "      <td>0</td>\n",
       "      <td>0</td>\n",
       "      <td>0</td>\n",
       "      <td>0</td>\n",
       "      <td>0</td>\n",
       "      <td>0</td>\n",
       "    </tr>\n",
       "    <tr>\n",
       "      <th>16</th>\n",
       "      <td>0</td>\n",
       "      <td>0</td>\n",
       "      <td>0</td>\n",
       "      <td>0</td>\n",
       "      <td>0</td>\n",
       "      <td>0</td>\n",
       "      <td>0</td>\n",
       "      <td>0</td>\n",
       "      <td>0</td>\n",
       "      <td>0</td>\n",
       "      <td>0</td>\n",
       "      <td>0</td>\n",
       "      <td>0</td>\n",
       "    </tr>\n",
       "    <tr>\n",
       "      <th>17</th>\n",
       "      <td>0</td>\n",
       "      <td>0</td>\n",
       "      <td>0</td>\n",
       "      <td>0</td>\n",
       "      <td>0</td>\n",
       "      <td>0</td>\n",
       "      <td>0</td>\n",
       "      <td>0</td>\n",
       "      <td>0</td>\n",
       "      <td>0</td>\n",
       "      <td>0</td>\n",
       "      <td>0</td>\n",
       "      <td>0</td>\n",
       "    </tr>\n",
       "    <tr>\n",
       "      <th>18</th>\n",
       "      <td>0</td>\n",
       "      <td>0</td>\n",
       "      <td>0</td>\n",
       "      <td>0</td>\n",
       "      <td>0</td>\n",
       "      <td>0</td>\n",
       "      <td>0</td>\n",
       "      <td>0</td>\n",
       "      <td>0</td>\n",
       "      <td>0</td>\n",
       "      <td>0</td>\n",
       "      <td>0</td>\n",
       "      <td>0</td>\n",
       "    </tr>\n",
       "  </tbody>\n",
       "</table>\n",
       "</div>"
      ],
      "text/plain": [
       "    0   1   2   3   4   5   6   7   8   9   10  11  12\n",
       "0    1   0   0   0   0   0   0   0   0   0   0   0   0\n",
       "1    1   0   0   0   0   0   0   0   0   0   0   0   0\n",
       "2    1   0   0   0   0   0   0   0   0   0   0   0   0\n",
       "3    1   0   0   0   0   0   0   0   0   0   0   0   0\n",
       "4    1   1   1   1   1   0   0   0   0   0   0   0   0\n",
       "5    0   0   0   0   0   1   0   0   0   0   0   0   0\n",
       "6    0   0   0   0   0   0   1   0   0   0   0   0   0\n",
       "7    0   0   0   0   0   0   0   1   0   0   0   0   0\n",
       "8    0   0   0   0   0   0   0   1   0   0   0   0   0\n",
       "9    0   0   0   0   0   0   0   1   0   0   0   0   0\n",
       "10   0   0   0   0   0   0   0   1   0   0   0   0   0\n",
       "11   0   0   0   0   0   0   0   0   1   0   0   0   0\n",
       "12   0   0   0   0   0   0   0   0   1   0   0   0   0\n",
       "13   0   0   0   0   0   0   0   0   1   0   0   0   0\n",
       "14   0   0   0   0   0   0   0   1   0   0   0   0   0\n",
       "15   0   0   0   0   0   0   0   0   0   0   0   0   0\n",
       "16   0   0   0   0   0   0   0   0   0   0   0   0   0\n",
       "17   0   0   0   0   0   0   0   0   0   0   0   0   0\n",
       "18   0   0   0   0   0   0   0   0   0   0   0   0   0"
      ]
     },
     "execution_count": 3,
     "metadata": {},
     "output_type": "execute_result"
    }
   ],
   "source": [
    "sample_data = os.path.join(data_path, \"00_010.csv\")\n",
    "sample_df = pd.read_csv(sample_data, index_col=None, header=None)\n",
    "sample_df"
   ]
  },
  {
   "cell_type": "markdown",
   "metadata": {
    "_uuid": "fb34c6a51823b65d1b877be3279dda73e5b7ecd3"
   },
   "source": [
    "### Visual representation"
   ]
  },
  {
   "cell_type": "code",
   "execution_count": 4,
   "metadata": {
    "_uuid": "b121c62f3c23a91ce3cceb4abcb43fff49e412c3"
   },
   "outputs": [
    {
     "data": {
      "image/png": "[encoded data removed]",
      "text/plain": [
       "<Figure size 432x288 with 1 Axes>"
      ]
     },
     "metadata": {
      "needs_background": "light"
     },
     "output_type": "display_data"
    }
   ],
   "source": [
    "%matplotlib inline\n",
    "from matplotlib import pyplot as plt\n",
    "plt.imshow(sample_df.values, interpolation='nearest')\n",
    "plt.axis('off')\n",
    "plt.show()"
   ]
  },
  {
   "cell_type": "markdown",
   "metadata": {
    "_uuid": "15c8404399f7c1921d01a31be1d4828ada04d415"
   },
   "source": [
    "Load all the training paths"
   ]
  },
  {
   "cell_type": "code",
   "execution_count": 5,
   "metadata": {
    "_cell_guid": "b1076dfc-b9ad-4769-8c92-a6c4dae69d19",
    "_uuid": "8f2839f25d086af736a60e9eeb907d3b93b6e0e5"
   },
   "outputs": [],
   "source": [
    "def loadData(path=data_path):\n",
    "    files = os.listdir(path)\n",
    "    data = []\n",
    "    labels = []\n",
    "    for fn in files:\n",
    "        ffn = os.path.join(path, fn)\n",
    "        df = pd.read_csv(ffn, index_col=None, header=None)\n",
    "        df[df==2]=0\n",
    "        data.append(df.values)\n",
    "        label = int(fn[0:2])\n",
    "        labels.append(label)\n",
    "    data = np.array(data) \n",
    "    return data, labels"
   ]
  },
  {
   "cell_type": "code",
   "execution_count": 6,
   "metadata": {
    "_cell_guid": "79c7e3d0-c299-4dcb-8224-4455121ee9b0",
    "_uuid": "d629ff2d2480ee46fbb7e2d37f6b5fab8052498a"
   },
   "outputs": [],
   "source": [
    "data, labels = loadData() "
   ]
  },
  {
   "cell_type": "code",
   "execution_count": 7,
   "metadata": {
    "_uuid": "ef39faaa418db68cc8df6abd8162de2edcdfded4"
   },
   "outputs": [
    {
     "name": "stdout",
     "output_type": "stream",
     "text": [
      "[0, 0, 0, 0, 0, 0, 0, 0, 0, 0, 0, 0, 0, 0, 0, 0, 0, 0, 0, 0, 0, 0, 0, 0, 0, 0, 0, 0, 0, 0, 0, 0, 0, 0, 0, 0, 0, 0, 0, 0, 0, 0, 0, 0, 0, 0, 0, 0, 0, 0, 0, 1, 1, 1, 1, 1, 1, 1, 1, 1, 1, 1, 1, 1, 1, 1, 1, 1, 1, 1, 1, 1, 1, 1, 1, 1, 1, 1, 1, 1, 1, 1, 1, 1, 1, 1, 1, 1, 1, 1, 1, 1, 1, 1, 1, 1, 1, 1, 1, 1, 1, 2, 2, 2, 2, 2, 2, 2, 2, 2, 2, 2, 2, 2, 2, 2, 2, 2, 2, 2, 2, 2, 2, 2, 2, 2, 2, 2, 2, 2, 2, 2, 2, 2, 2, 2, 2, 2, 2, 2, 2, 2, 2, 2, 2, 2, 2, 2, 2, 2, 2, 2, 2, 3, 3, 3, 3, 3, 3, 3, 3, 3, 3, 3, 3, 3, 3, 3, 3, 3, 3, 3, 3, 3, 3, 3, 3, 3, 3, 3, 3, 3, 3, 3, 3, 3, 3, 3, 3, 3, 3, 3, 3, 3, 3, 3, 3, 3, 3, 3, 3, 3, 3, 3, 3, 4, 4, 4, 4, 4, 4, 4, 4, 4, 4, 4, 4, 4, 4, 4, 4, 4, 4, 4, 4, 4, 4, 4, 4, 4, 4, 4, 4, 4, 4, 4, 4, 4, 4, 4, 4, 4, 4, 4, 4, 4, 4, 4, 4, 4, 4, 4, 4, 4, 4, 4, 4, 4, 4, 4, 5, 5, 5, 5, 5, 5, 5, 5, 5, 5, 5, 5, 5, 5, 5, 5, 5, 5, 5, 5, 5, 5, 5, 5, 5, 5, 5, 5, 5, 5, 5, 5, 5, 5, 5, 5, 5, 5, 5, 5, 5, 5, 5, 5, 5, 5, 5, 5, 5, 5, 5, 5, 5]\n"
     ]
    }
   ],
   "source": [
    "print(labels)"
   ]
  },
  {
   "cell_type": "markdown",
   "metadata": {
    "_uuid": "1732735aa352002f7e60dd7b9b3e102d3ff97845"
   },
   "source": [
    "### Load defined path classes ad their specification:\n",
    "We have 6 classes. (x1,y1) and (x2,y2) specify tow end of the path.  "
   ]
  },
  {
   "cell_type": "code",
   "execution_count": 8,
   "metadata": {
    "_uuid": "08b50cb8b0969863ce0f9db7cf3b7536fc8fc52f"
   },
   "outputs": [
    {
     "data": {
      "text/html": [
       "<div>\n",
       "<style scoped>\n",
       "    .dataframe tbody tr th:only-of-type {\n",
       "        vertical-align: middle;\n",
       "    }\n",
       "\n",
       "    .dataframe tbody tr th {\n",
       "        vertical-align: top;\n",
       "    }\n",
       "\n",
       "    .dataframe thead th {\n",
       "        text-align: right;\n",
       "    }\n",
       "</style>\n",
       "<table border=\"1\" class=\"dataframe\">\n",
       "  <thead>\n",
       "    <tr style=\"text-align: right;\">\n",
       "      <th></th>\n",
       "      <th>class</th>\n",
       "      <th>x1</th>\n",
       "      <th>y1</th>\n",
       "      <th>x2</th>\n",
       "      <th>y2</th>\n",
       "    </tr>\n",
       "  </thead>\n",
       "  <tbody>\n",
       "    <tr>\n",
       "      <th>0</th>\n",
       "      <td>0</td>\n",
       "      <td>0</td>\n",
       "      <td>0</td>\n",
       "      <td>14</td>\n",
       "      <td>7</td>\n",
       "    </tr>\n",
       "    <tr>\n",
       "      <th>1</th>\n",
       "      <td>1</td>\n",
       "      <td>0</td>\n",
       "      <td>0</td>\n",
       "      <td>16</td>\n",
       "      <td>12</td>\n",
       "    </tr>\n",
       "    <tr>\n",
       "      <th>2</th>\n",
       "      <td>2</td>\n",
       "      <td>2</td>\n",
       "      <td>5</td>\n",
       "      <td>16</td>\n",
       "      <td>12</td>\n",
       "    </tr>\n",
       "    <tr>\n",
       "      <th>3</th>\n",
       "      <td>3</td>\n",
       "      <td>2</td>\n",
       "      <td>5</td>\n",
       "      <td>16</td>\n",
       "      <td>8</td>\n",
       "    </tr>\n",
       "    <tr>\n",
       "      <th>4</th>\n",
       "      <td>4</td>\n",
       "      <td>2</td>\n",
       "      <td>5</td>\n",
       "      <td>18</td>\n",
       "      <td>0</td>\n",
       "    </tr>\n",
       "    <tr>\n",
       "      <th>5</th>\n",
       "      <td>5</td>\n",
       "      <td>4</td>\n",
       "      <td>0</td>\n",
       "      <td>10</td>\n",
       "      <td>10</td>\n",
       "    </tr>\n",
       "  </tbody>\n",
       "</table>\n",
       "</div>"
      ],
      "text/plain": [
       "   class  x1  y1  x2  y2\n",
       "0      0   0   0  14   7\n",
       "1      1   0   0  16  12\n",
       "2      2   2   5  16  12\n",
       "3      3   2   5  16   8\n",
       "4      4   2   5  18   0\n",
       "5      5   4   0  10  10"
      ]
     },
     "execution_count": 8,
     "metadata": {},
     "output_type": "execute_result"
    }
   ],
   "source": [
    "defined_path_classes = pd.read_csv(\"D:\\ML\\PATHGAN\\input\\pathClasses.csv\", index_col=None)\n",
    "defined_path_classes"
   ]
  },
  {
   "cell_type": "markdown",
   "metadata": {
    "_uuid": "9e2ab8acb67bf842d67c923876c8c940d1a5ba50"
   },
   "source": [
    "# Create GAN structure"
   ]
  },
  {
   "cell_type": "code",
   "execution_count": 9,
   "metadata": {
    "_uuid": "f5d71c308c9c3b15da8244a29b32e0ca2dc0c091"
   },
   "outputs": [],
   "source": [
    "class GAN():\n",
    "    def __init__(self, img_rows=19, img_cols=13, channels=1):\n",
    "        self.img_rows = img_rows\n",
    "        self.img_cols = img_cols\n",
    "        self.channels = channels\n",
    "        self.img_shape = (self.img_rows, self.img_cols, self.channels)\n",
    "\n",
    "        optimizer = Adam(0.0002, 0.5)\n",
    "\n",
    "        # Build and compile the discriminator\n",
    "        self.discriminator = self.build_discriminator()\n",
    "        self.discriminator.compile(loss='binary_crossentropy',\n",
    "                                   optimizer=optimizer,\n",
    "                                   metrics=['accuracy'])\n",
    "\n",
    "        # Build and compile the generator\n",
    "        self.generator = self.build_generator()\n",
    "        self.generator.compile(loss='binary_crossentropy', optimizer=optimizer)\n",
    "\n",
    "        # The generator takes noise as input and generated imgs\n",
    "        z = Input(shape=(100,))\n",
    "        img = self.generator(z)\n",
    "\n",
    "        # For the combined model we will only train the generator\n",
    "        self.discriminator.trainable = False\n",
    "\n",
    "        # The valid takes generated images as input and determines validity\n",
    "        valid = self.discriminator(img)\n",
    "\n",
    "        # The combined model  (stacked generator and discriminator) takes\n",
    "        # noise as input => generates images => determines validity \n",
    "        self.combined = Model(z, valid)\n",
    "        self.combined.compile(loss='binary_crossentropy', optimizer=optimizer)\n",
    "\n",
    "    def build_generator(self):\n",
    "\n",
    "        noise_shape = (100,)\n",
    "\n",
    "        model = Sequential()\n",
    "\n",
    "        model.add(Dense(256, input_shape=noise_shape))\n",
    "        model.add(LeakyReLU(alpha=0.2))\n",
    "        model.add(BatchNormalization(momentum=0.8))\n",
    "        model.add(Dense(512))\n",
    "        model.add(LeakyReLU(alpha=0.2))\n",
    "        model.add(BatchNormalization(momentum=0.8))\n",
    "        model.add(Dense(1024))\n",
    "        model.add(LeakyReLU(alpha=0.2))\n",
    "        model.add(BatchNormalization(momentum=0.8))\n",
    "        model.add(Dense(np.prod(self.img_shape), activation='tanh'))\n",
    "        model.add(Reshape(self.img_shape))\n",
    "\n",
    "        #model.summary()\n",
    "\n",
    "        noise = Input(shape=noise_shape)\n",
    "        img = model(noise)\n",
    "\n",
    "        return Model(noise, img)\n",
    "\n",
    "    def build_discriminator(self):\n",
    "\n",
    "        img_shape = (self.img_rows, self.img_cols, self.channels)\n",
    "\n",
    "        model = Sequential()\n",
    "\n",
    "        model.add(Flatten(input_shape=img_shape))\n",
    "        model.add(Dense(512))\n",
    "        model.add(LeakyReLU(alpha=0.2))\n",
    "        model.add(Dense(256))\n",
    "        model.add(LeakyReLU(alpha=0.2))\n",
    "        model.add(Dense(1, activation='sigmoid'))\n",
    "        #model.summary()\n",
    "\n",
    "        img = Input(shape=img_shape)\n",
    "        validity = model(img)\n",
    "\n",
    "        return Model(img, validity)\n",
    "\n",
    "    def train(self, X_train, y_, epochs=1000, batch_size=2):\n",
    "\n",
    "        X_train = 2 * (X_train.astype(np.float32)) - 1\n",
    "        X_train = np.expand_dims(X_train, axis=3)\n",
    "        half_batch = int(batch_size / 2)\n",
    "\n",
    "        for epoch in tqdm.trange(epochs, desc='Training'):\n",
    "\n",
    "            # ---------------------\n",
    "            #  Train Discriminator\n",
    "            # ---------------------\n",
    "\n",
    "            # Select a random half batch of images\n",
    "            idx = np.random.randint(0, X_train.shape[0], half_batch)\n",
    "            imgs = X_train[idx]\n",
    "\n",
    "            noise = np.random.normal(0, 1, (half_batch, 100))\n",
    "\n",
    "            # Generate a half batch of new images\n",
    "            gen_imgs = self.generator.predict(noise)\n",
    "\n",
    "            # Train the discriminator\n",
    "            d_loss_real = self.discriminator.train_on_batch(imgs, np.ones((half_batch, 1)))\n",
    "            d_loss_fake = self.discriminator.train_on_batch(gen_imgs, np.zeros((half_batch, 1)))\n",
    "            d_loss = 0.5 * np.add(d_loss_real, d_loss_fake)\n",
    "\n",
    "            # ---------------------\n",
    "            #  Train Generator\n",
    "            # ---------------------\n",
    "\n",
    "            noise = np.random.normal(0, 1, (batch_size, 100))\n",
    "\n",
    "            # The generator wants the discriminator to label the generated samples as valid (ones)\n",
    "            valid_y = np.array([1] * batch_size)\n",
    "\n",
    "            # Train the generator\n",
    "            g_loss = self.combined.train_on_batch(noise, valid_y)\n",
    "            \n",
    "        \n",
    "    \n",
    "    def save_pgan_model(self):\n",
    "        self.generator.save_weights('D:\\ML\\PATHGAN\\PathGANckpt.ckpt')\n",
    "        self.generator.save('D:\\ML\\PATHGAN\\PathGAN.h5')\n",
    "        \n",
    "        \n",
    "    def load_pgan_model(self):\n",
    "        self.generator = tf.keras.models.load_model('D:\\ML\\PATHGAN\\PathGAN.h5')\n",
    "        #self.generator.load_weights('D:\\ML\\PATHGAN\\PathGANckpt.ckpt')\n",
    "        print(\"Loaded the model from file\")\n",
    "        self.generator.summary()"
   ]
  },
  {
   "cell_type": "markdown",
   "metadata": {
    "_uuid": "d261fcf8e9e09d52017c675ebf7040c563b0a454"
   },
   "source": [
    "### Build and Train the GAN"
   ]
  },
  {
   "cell_type": "code",
   "execution_count": 10,
   "metadata": {
    "_uuid": "6202a5360aa4200b230c014dd9c711a9e4478147"
   },
   "outputs": [
    {
     "name": "stdout",
     "output_type": "stream",
     "text": [
      "total training time: 0.0 seconds ---\n"
     ]
    }
   ],
   "source": [
    "gan = GAN()\n",
    "start_time = time.time()\n",
    "#gan.train(data, labels, epochs=10000, batch_size=8)\n",
    "#gan.save_pgan_model()\n",
    "print(\"total training time: %s seconds ---\" % (time.time() - start_time))"
   ]
  },
  {
   "cell_type": "markdown",
   "metadata": {
    "_uuid": "6602b29083c13fa830de8eb6b354cd469283bebe"
   },
   "source": [
    "Generate 12 paths from noise vectors of size 100."
   ]
  },
  {
   "cell_type": "code",
   "execution_count": 11,
   "metadata": {},
   "outputs": [
    {
     "name": "stdout",
     "output_type": "stream",
     "text": [
      "WARNING:tensorflow:Error in loading the saved optimizer state. As a result, your model is starting with a freshly initialized optimizer.\n",
      "Loaded the model from file\n",
      "Model: \"functional_3\"\n",
      "_________________________________________________________________\n",
      "Layer (type)                 Output Shape              Param #   \n",
      "=================================================================\n",
      "input_2 (InputLayer)         [(None, 100)]             0         \n",
      "_________________________________________________________________\n",
      "sequential_1 (Sequential)    (None, 19, 13, 1)         943095    \n",
      "=================================================================\n",
      "Total params: 943,095\n",
      "Trainable params: 939,511\n",
      "Non-trainable params: 3,584\n",
      "_________________________________________________________________\n"
     ]
    }
   ],
   "source": [
    "gan.load_pgan_model()"
   ]
  },
  {
   "cell_type": "code",
   "execution_count": 23,
   "metadata": {
    "_uuid": "8745829b9ed789185c8e7a9fc0824f948aaddc09"
   },
   "outputs": [
    {
     "name": "stdout",
     "output_type": "stream",
     "text": [
      "(1, 100)\n"
     ]
    }
   ],
   "source": [
    "gen_samples_row, gen_samples_col = 1,1\n",
    "count = gen_samples_row*gen_samples_col\n",
    "noise = np.random.normal(0, 1, (count, 100))\n",
    "print(noise.shape)"
   ]
  },
  {
   "cell_type": "markdown",
   "metadata": {
    "_uuid": "2c7dbed51351df54692f014e81d2fff484771723"
   },
   "source": [
    "A noise vector:"
   ]
  },
  {
   "cell_type": "code",
   "execution_count": 24,
   "metadata": {
    "_uuid": "b27ff232992aba0aafe6c5f446a0e641ceb38ef5"
   },
   "outputs": [
    {
     "data": {
      "text/plain": [
       "array([ 1.69052570e+00, -4.65937371e-01,  3.28201637e-02,  4.07516283e-01,\n",
       "       -7.88923029e-01,  2.06557291e-03, -8.90385858e-04, -1.75472431e+00,\n",
       "        1.01765801e+00,  6.00498516e-01, -6.25428974e-01, -1.71548261e-01,\n",
       "        5.05299374e-01, -2.61356415e-01, -2.42749079e-01, -1.45324141e+00,\n",
       "        5.54580312e-01,  1.23880905e-01,  2.74459924e-01, -1.52652453e+00,\n",
       "        1.65069969e+00,  1.54335535e-01, -3.87139943e-01,  2.02907222e+00,\n",
       "       -4.53860299e-02, -1.45067870e+00, -4.05227855e-01, -2.28831510e+00,\n",
       "        1.04939655e+00, -4.16474319e-01, -7.42553525e-01,  1.07247013e+00,\n",
       "       -1.65107559e+00,  5.35429356e-01, -2.06441480e+00, -6.62159340e-01,\n",
       "       -1.20421985e+00,  1.46197563e+00,  1.76616088e+00, -3.29413752e-01,\n",
       "        8.40733242e-01, -1.79986401e-01,  5.68061887e-01, -7.52837196e-01,\n",
       "       -1.70833920e+00, -1.80309866e+00,  3.83121852e-01,  2.24759505e+00,\n",
       "        2.69411631e-01, -5.24604619e-01,  1.91201886e+00,  2.37301847e-01,\n",
       "        1.01433985e-01,  2.52577736e-01, -1.32377198e-01, -3.09476341e-01,\n",
       "       -1.43496347e+00,  5.01624123e-01, -9.47754504e-02,  1.19308592e+00,\n",
       "       -3.68818468e-01, -1.90636988e+00, -9.96106319e-02,  1.69953730e+00,\n",
       "       -3.83423123e-01, -8.89856861e-01, -1.19359192e+00, -1.05001681e+00,\n",
       "       -3.00193737e-01, -1.17998209e+00,  1.49763912e+00, -2.82635236e-01,\n",
       "        1.08648371e-01,  1.43823952e+00,  1.50331852e+00, -2.12732967e-01,\n",
       "        3.31974215e-01,  7.35026584e-01, -1.92855460e-01, -1.77801285e+00,\n",
       "        6.54705704e-01,  8.94352305e-01,  4.15502614e-01, -9.23544657e-01,\n",
       "       -1.96027312e-01, -5.90769819e-01, -2.99711237e-01,  1.29688519e+00,\n",
       "        1.52957963e+00,  6.69418193e-01,  5.48745120e-01,  6.76628990e-01,\n",
       "       -1.22421866e-02, -7.56634615e-02, -6.73645187e-01, -5.58674501e-02,\n",
       "        2.25994699e+00,  8.69039329e-01, -3.42117023e-01, -4.71926652e-01])"
      ]
     },
     "execution_count": 24,
     "metadata": {},
     "output_type": "execute_result"
    }
   ],
   "source": [
    "noise[0]"
   ]
  },
  {
   "cell_type": "code",
   "execution_count": 25,
   "metadata": {
    "_uuid": "311b263efc46af8a9e63281ff8f4ffe882a0cf6e"
   },
   "outputs": [
    {
     "name": "stdout",
     "output_type": "stream",
     "text": [
      "(1, 19, 13, 1)\n"
     ]
    }
   ],
   "source": [
    "# Generate images from noise data\n",
    "gen_imgs = gan.generator.predict(noise)\n",
    "print(gen_imgs.shape)"
   ]
  },
  {
   "cell_type": "markdown",
   "metadata": {
    "_uuid": "6baed0d7a054aea32e4e7588fd15a7937a1aed59"
   },
   "source": [
    "Rescale image pixels in 0 - 1"
   ]
  },
  {
   "cell_type": "code",
   "execution_count": 26,
   "metadata": {
    "_uuid": "367de38f7258b849dde1669b9bc21a198d0e3b51"
   },
   "outputs": [],
   "source": [
    "gen_imgs = 0.5 * gen_imgs + 0.5"
   ]
  },
  {
   "cell_type": "markdown",
   "metadata": {
    "_uuid": "850ece6457ac2bedd0c99a9cc16587cafcee9fe1"
   },
   "source": [
    "Shape of a generated image:"
   ]
  },
  {
   "cell_type": "code",
   "execution_count": 27,
   "metadata": {
    "_uuid": "649ded7c5af79a9288921ddcc687b8da512b47cb"
   },
   "outputs": [
    {
     "data": {
      "text/plain": [
       "(19, 13, 1)"
      ]
     },
     "execution_count": 27,
     "metadata": {},
     "output_type": "execute_result"
    }
   ],
   "source": [
    "gen_imgs[0].shape"
   ]
  },
  {
   "cell_type": "markdown",
   "metadata": {
    "_uuid": "aadd4ba8356a032c1a7d8d4b2ad37d43aec5a036"
   },
   "source": [
    "Show the generated paths"
   ]
  },
  {
   "cell_type": "code",
   "execution_count": null,
   "metadata": {},
   "outputs": [],
   "source": [
    "%matplotlib inline\n",
    "from matplotlib import pyplot as plt\n",
    "plt.imshow(gen_imgs[0], interpolation='nearest')\n",
    "plt.axis('off')\n",
    "plt.show()"
   ]
  },
  {
   "cell_type": "code",
   "execution_count": 28,
   "metadata": {
    "_uuid": "0d490c682138ca4bb6b43a294a37b0cae79f22dd"
   },
   "outputs": [
    {
     "ename": "TypeError",
     "evalue": "'AxesSubplot' object is not subscriptable",
     "output_type": "error",
     "traceback": [
      "\u001b[1;31m---------------------------------------------------------------------------\u001b[0m",
      "\u001b[1;31mTypeError\u001b[0m                                 Traceback (most recent call last)",
      "\u001b[1;32m~\\AppData\\Local\\Temp\\ipykernel_30360\\4189333138.py\u001b[0m in \u001b[0;36m<module>\u001b[1;34m\u001b[0m\n\u001b[0;32m      4\u001b[0m \u001b[1;32mfor\u001b[0m \u001b[0mi\u001b[0m \u001b[1;32min\u001b[0m \u001b[0mrange\u001b[0m\u001b[1;33m(\u001b[0m\u001b[0mgen_samples_row\u001b[0m\u001b[1;33m)\u001b[0m\u001b[1;33m:\u001b[0m\u001b[1;33m\u001b[0m\u001b[1;33m\u001b[0m\u001b[0m\n\u001b[0;32m      5\u001b[0m     \u001b[1;32mfor\u001b[0m \u001b[0mj\u001b[0m \u001b[1;32min\u001b[0m \u001b[0mrange\u001b[0m\u001b[1;33m(\u001b[0m\u001b[0mgen_samples_col\u001b[0m\u001b[1;33m)\u001b[0m\u001b[1;33m:\u001b[0m\u001b[1;33m\u001b[0m\u001b[1;33m\u001b[0m\u001b[0m\n\u001b[1;32m----> 6\u001b[1;33m         \u001b[0maxs\u001b[0m\u001b[1;33m[\u001b[0m\u001b[0mi\u001b[0m\u001b[1;33m,\u001b[0m\u001b[0mj\u001b[0m\u001b[1;33m]\u001b[0m\u001b[1;33m.\u001b[0m\u001b[0mimshow\u001b[0m\u001b[1;33m(\u001b[0m\u001b[0mgen_imgs\u001b[0m\u001b[1;33m[\u001b[0m\u001b[0mcnt\u001b[0m\u001b[1;33m,\u001b[0m \u001b[1;33m:\u001b[0m\u001b[1;33m,\u001b[0m\u001b[1;33m:\u001b[0m\u001b[1;33m,\u001b[0m\u001b[1;36m0\u001b[0m\u001b[1;33m]\u001b[0m\u001b[1;33m,\u001b[0m \u001b[0mcmap\u001b[0m\u001b[1;33m=\u001b[0m\u001b[0mplt\u001b[0m\u001b[1;33m.\u001b[0m\u001b[0mcm\u001b[0m\u001b[1;33m.\u001b[0m\u001b[0mgray\u001b[0m\u001b[1;33m)\u001b[0m\u001b[1;33m\u001b[0m\u001b[1;33m\u001b[0m\u001b[0m\n\u001b[0m\u001b[0;32m      7\u001b[0m         \u001b[0maxs\u001b[0m\u001b[1;33m[\u001b[0m\u001b[0mi\u001b[0m\u001b[1;33m,\u001b[0m\u001b[0mj\u001b[0m\u001b[1;33m]\u001b[0m\u001b[1;33m.\u001b[0m\u001b[0maxis\u001b[0m\u001b[1;33m(\u001b[0m\u001b[1;34m'off'\u001b[0m\u001b[1;33m)\u001b[0m\u001b[1;33m\u001b[0m\u001b[1;33m\u001b[0m\u001b[0m\n\u001b[0;32m      8\u001b[0m     \u001b[0mautoAxis\u001b[0m \u001b[1;33m=\u001b[0m \u001b[0maxs\u001b[0m\u001b[1;33m[\u001b[0m\u001b[0mi\u001b[0m\u001b[1;33m,\u001b[0m\u001b[0mj\u001b[0m\u001b[1;33m]\u001b[0m\u001b[1;33m.\u001b[0m\u001b[0maxis\u001b[0m\u001b[1;33m(\u001b[0m\u001b[1;33m)\u001b[0m\u001b[1;33m\u001b[0m\u001b[1;33m\u001b[0m\u001b[0m\n",
      "\u001b[1;31mTypeError\u001b[0m: 'AxesSubplot' object is not subscriptable"
     ]
    },
    {
     "data": {
      "image/png": "[encoded data removed]",
      "text/plain": [
       "<Figure size 324x360 with 1 Axes>"
      ]
     },
     "metadata": {
      "needs_background": "light"
     },
     "output_type": "display_data"
    }
   ],
   "source": [
    "fig, axs = plt.subplots(gen_samples_row, gen_samples_col, figsize=(4.5,5))\n",
    "cnt = 0\n",
    "fig.subplots_adjust(hspace=0.5)\n",
    "for i in range(gen_samples_row):\n",
    "    for j in range(gen_samples_col):\n",
    "        axs[i,j].imshow(gen_imgs[cnt, :,:,0], cmap=plt.cm.gray)\n",
    "        axs[i,j].axis('off')\n",
    "    autoAxis = axs[i,j].axis()\n",
    "    rec = Rectangle((autoAxis[0]-0.1,autoAxis[2]-0.2),(autoAxis[1]-autoAxis[0])+.2,(autoAxis[3]-autoAxis[2])+0.1,fill=False, lw=0.5)\n",
    "    rec = axs[i,j].add_patch(rec)\n",
    "    rec.set_clip_on(False)\n",
    "    cnt += 1\n",
    "plt.show()\n",
    "plt.close()"
   ]
  },
  {
   "cell_type": "markdown",
   "metadata": {
    "_uuid": "ec0a360c30b038fa4a5266e315fbbeb334f95f84"
   },
   "source": [
    "After generating paths, we need to identify the class of generated path so we can check if they are what we expected."
   ]
  },
  {
   "cell_type": "markdown",
   "metadata": {
    "_uuid": "4ed53ebf24d77120d0154890b0d1f35b45200be1"
   },
   "source": [
    "## Create Path Classifier"
   ]
  },
  {
   "cell_type": "code",
   "execution_count": 18,
   "metadata": {
    "_uuid": "8ff353c6ebc199010b4f398069749506e5e0b090"
   },
   "outputs": [],
   "source": [
    "class PathClassifier:\n",
    "    \n",
    "    def __init__(self, num_pixels=13*19, num_classes=6):\n",
    "        self.model = self.build_classifier_base(num_pixels, num_classes)\n",
    "\n",
    "    def build_classifier_base(self, num_pixels, num_classes):\n",
    "        # fix random seed for reproducibility\n",
    "        seed = 7\n",
    "        np.random.seed(seed)\n",
    "        model = Sequential()\n",
    "        model.add(Dense(num_pixels, input_dim=num_pixels, kernel_initializer='normal', activation='relu'))\n",
    "        model.add(Dropout(0.2))\n",
    "        model.add(Dense(num_classes, kernel_initializer='normal', activation='softmax'))\n",
    "        # Compile model\n",
    "        model.compile(loss='categorical_crossentropy', optimizer='adam', metrics=['accuracy'])\n",
    "        return model\n",
    "\n",
    "    def train_model(self, X_train, y_train, eps=10, batch_size=20):\n",
    "        num_classes = y_train.shape[1]\n",
    "        num_pixels = X_train.shape[1]        \n",
    "        self.model.fit(X_train, y_train, epochs=eps, batch_size=batch_size, verbose=2)\n",
    "        return self.model\n",
    "\n",
    "    def evaluate(self, X_test, y_test):        \n",
    "        scores = self.model.evaluate(X_test, y_test, verbose=0)\n",
    "        accuracy = scores[1] * 100\n",
    "        print(\"Classification accuracy: %.2f%%\" % accuracy)\n",
    "        return accuracy"
   ]
  },
  {
   "cell_type": "markdown",
   "metadata": {
    "_uuid": "0b4b2d4352a2ebb710b1d051d10e76dab14803dc"
   },
   "source": [
    "### Train the path classifier"
   ]
  },
  {
   "cell_type": "code",
   "execution_count": 19,
   "metadata": {
    "_uuid": "3fb1830c68ca87ed1fb5f8043df535d5711b69a3"
   },
   "outputs": [
    {
     "name": "stdout",
     "output_type": "stream",
     "text": [
      "Epoch 1/10\n",
      "11/11 - 0s - loss: 1.5637 - accuracy: 0.4886\n",
      "Epoch 2/10\n",
      "11/11 - 0s - loss: 1.1083 - accuracy: 0.7717\n",
      "Epoch 3/10\n",
      "11/11 - 0s - loss: 0.7394 - accuracy: 0.8995\n",
      "Epoch 4/10\n",
      "11/11 - 0s - loss: 0.4671 - accuracy: 0.9543\n",
      "Epoch 5/10\n",
      "11/11 - 0s - loss: 0.3052 - accuracy: 0.9543\n",
      "Epoch 6/10\n",
      "11/11 - 0s - loss: 0.2075 - accuracy: 0.9817\n",
      "Epoch 7/10\n",
      "11/11 - 0s - loss: 0.1532 - accuracy: 0.9863\n",
      "Epoch 8/10\n",
      "11/11 - 0s - loss: 0.1157 - accuracy: 0.9909\n",
      "Epoch 9/10\n",
      "11/11 - 0s - loss: 0.0948 - accuracy: 0.9863\n",
      "Epoch 10/10\n",
      "11/11 - 0s - loss: 0.0759 - accuracy: 0.9909\n"
     ]
    },
    {
     "data": {
      "text/plain": [
       "<tensorflow.python.keras.engine.sequential.Sequential at 0x1d714ecb988>"
      ]
     },
     "execution_count": 19,
     "metadata": {},
     "output_type": "execute_result"
    }
   ],
   "source": [
    "path_classifier = PathClassifier()\n",
    "lblEnc = LabelEncoder()\n",
    "labels = lblEnc.fit_transform(labels)\n",
    "\n",
    "num_pixels = data.shape[1] * data.shape[2]\n",
    "data = data.reshape(data.shape[0], num_pixels).astype('float32')\n",
    "labels = np_utils.to_categorical(labels)\n",
    "\n",
    "num_classes = labels.shape[1]\n",
    "\n",
    "lnx = int(len(data) * 0.7)\n",
    "X_train, X_test = data[:lnx], data[lnx:]\n",
    "y_train, y_test = labels[:lnx], labels[lnx:]\n",
    "\n",
    "path_classifier.train_model(X_train, y_train, eps=10, batch_size=i*10)\n"
   ]
  },
  {
   "cell_type": "markdown",
   "metadata": {
    "_uuid": "09e01458757eb4db4e9bad0e9be98c81644c38d6"
   },
   "source": [
    "How accurate is our path classifier?"
   ]
  },
  {
   "cell_type": "code",
   "execution_count": 20,
   "metadata": {
    "_uuid": "dcc95e6340ba000cb136ec5ce405312d83549f19"
   },
   "outputs": [
    {
     "name": "stdout",
     "output_type": "stream",
     "text": [
      "Classification accuracy: 43.62%\n"
     ]
    },
    {
     "data": {
      "text/plain": [
       "43.6170220375061"
      ]
     },
     "execution_count": 20,
     "metadata": {},
     "output_type": "execute_result"
    }
   ],
   "source": [
    "path_classifier.evaluate(X_test, y_test)"
   ]
  },
  {
   "cell_type": "markdown",
   "metadata": {
    "_uuid": "855283b642aee6e7ffa3137770dc9b97ab1f7668"
   },
   "source": [
    "Now we can identify the class of generated paths"
   ]
  },
  {
   "cell_type": "code",
   "execution_count": 21,
   "metadata": {
    "_uuid": "0c325bddaaf0dbb9b1a6b45ba5d4cefe775a7153"
   },
   "outputs": [],
   "source": [
    "gen_imgs2 = gen_imgs.reshape(gen_imgs.shape[0], gen_imgs.shape[1]*gen_imgs.shape[2]).astype('float32')\n",
    "classes = path_classifier.model.predict(gen_imgs2)\n",
    "classes = np.argmax(classes, axis=1)"
   ]
  },
  {
   "cell_type": "markdown",
   "metadata": {
    "_uuid": "5359e02d4acd4c1ed74b8b8886be4a2ba9f338ab"
   },
   "source": [
    "Draw generated paths and their class label"
   ]
  },
  {
   "cell_type": "code",
   "execution_count": 22,
   "metadata": {
    "_uuid": "6b37bcfed49e3023801e469545e7b0ce98cfc525"
   },
   "outputs": [
    {
     "data": {
      "image/png": "[encoded data removed]",
      "text/plain": [
       "<Figure size 324x360 with 12 Axes>"
      ]
     },
     "metadata": {
      "needs_background": "light"
     },
     "output_type": "display_data"
    }
   ],
   "source": [
    "fig, axs = plt.subplots(gen_samples_row, gen_samples_col, figsize=(4.5,5))\n",
    "cnt = 0\n",
    "fig.subplots_adjust(hspace=0.5)\n",
    "for i in range(gen_samples_row):\n",
    "    for j in range(gen_samples_col):\n",
    "        axs[i,j].imshow(gen_imgs[cnt, :,:,0], cmap=plt.cm.gray)\n",
    "        axs[i,j].set_title('class ' + str(classes[cnt]))\n",
    "        axs[i,j].axis('off')\n",
    "    autoAxis = axs[i,j].axis()\n",
    "    rec = Rectangle((autoAxis[0]-0.1,autoAxis[2]-0.2),(autoAxis[1]-autoAxis[0])+.2,(autoAxis[3]-autoAxis[2])+0.1,fill=False, lw=0.5)\n",
    "    rec = axs[i,j].add_patch(rec)\n",
    "    rec.set_clip_on(False)\n",
    "    cnt += 1\n",
    "plt.show()\n",
    "plt.close()"
   ]
  },
  {
   "cell_type": "code",
   "execution_count": null,
   "metadata": {},
   "outputs": [],
   "source": [
    " =-"
   ]
  }
 ],
 "metadata": {
  "kernelspec": {
   "display_name": "Python 3 (ipykernel)",
   "language": "python",
   "name": "python3"
  },
  "language_info": {
   "codemirror_mode": {
    "name": "ipython",
    "version": 3
   },
   "file_extension": ".py",
   "mimetype": "text/x-python",
   "name": "python",
   "nbconvert_exporter": "python",
   "pygments_lexer": "ipython3",
   "version": "3.7.11"
  }
 },
 "nbformat": 4,
 "nbformat_minor": 1
}
